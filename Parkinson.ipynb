{
 "cells": [
  {
   "cell_type": "code",
   "execution_count": 1,
   "metadata": {},
   "outputs": [],
   "source": [
    "import numpy as np\n",
    "import pandas as pd\n",
    "import matplotlib.pyplot as plt\n",
    "from sklearn.ensemble import RandomForestClassifier\n"
   ]
  },
  {
   "cell_type": "code",
   "execution_count": 2,
   "metadata": {},
   "outputs": [],
   "source": [
    "df = pd.read_csv(\"./Data/parkinsons_updrs.csv\")"
   ]
  },
  {
   "cell_type": "code",
   "execution_count": 3,
   "metadata": {},
   "outputs": [
    {
     "name": "stdout",
     "output_type": "stream",
     "text": [
      "<class 'pandas.core.frame.DataFrame'>\n",
      "RangeIndex: 5875 entries, 0 to 5874\n",
      "Data columns (total 23 columns):\n",
      " #   Column         Non-Null Count  Dtype  \n",
      "---  ------         --------------  -----  \n",
      " 0   index          5875 non-null   int64  \n",
      " 1   subject#       5875 non-null   int64  \n",
      " 2   age            5875 non-null   int64  \n",
      " 3   sex            5875 non-null   int64  \n",
      " 4   test_time      5875 non-null   float64\n",
      " 5   motor_UPDRS    5875 non-null   float64\n",
      " 6   total_UPDRS    5875 non-null   float64\n",
      " 7   Jitter(%)      5875 non-null   float64\n",
      " 8   Jitter(Abs)    5875 non-null   float64\n",
      " 9   Jitter:RAP     5875 non-null   float64\n",
      " 10  Jitter:PPQ5    5875 non-null   float64\n",
      " 11  Jitter:DDP     5875 non-null   float64\n",
      " 12  Shimmer        5875 non-null   float64\n",
      " 13  Shimmer(dB)    5875 non-null   float64\n",
      " 14  Shimmer:APQ3   5875 non-null   float64\n",
      " 15  Shimmer:APQ5   5875 non-null   float64\n",
      " 16  Shimmer:APQ11  5875 non-null   float64\n",
      " 17  Shimmer:DDA    5875 non-null   float64\n",
      " 18  NHR            5875 non-null   float64\n",
      " 19  HNR            5875 non-null   float64\n",
      " 20  RPDE           5875 non-null   float64\n",
      " 21  DFA            5875 non-null   float64\n",
      " 22  PPE            5875 non-null   float64\n",
      "dtypes: float64(19), int64(4)\n",
      "memory usage: 1.0 MB\n"
     ]
    }
   ],
   "source": [
    "df.info()"
   ]
  },
  {
   "cell_type": "code",
   "execution_count": null,
   "metadata": {},
   "outputs": [],
   "source": [
    "# y = total_UPDRS"
   ]
  },
  {
   "cell_type": "code",
   "execution_count": null,
   "metadata": {},
   "outputs": [],
   "source": [
    "# Likely Important Features:\n",
    "# motor_UPDRS: Direct measure of motor impairment, highly relevant to Parkinson's Disease.\n",
    "# total_UPDRS: Comprehensive measure including both motor and non-motor symptoms.\n",
    "# Jitter(%): Indicates frequency variation in the voice, often affected in Parkinson's Disease.\n",
    "# Jitter(Abs): Another measure of frequency variation.\n",
    "# Jitter\n",
    "# : Relative average perturbation, reflecting frequency stability.\n",
    "# Jitter\n",
    "# : Period perturbation quotient, reflecting short-term variability in pitch.\n",
    "# Jitter\n",
    "# : Average absolute difference in pitch periods.\n",
    "# Shimmer: Amplitude variation in the voice.\n",
    "# Shimmer(dB): Logarithmic measure of amplitude variation.\n",
    "# Shimmer\n",
    "# , APQ5, APQ11, DDA: Various measures of amplitude perturbation.\n",
    "# NHR: Noise-to-harmonics ratio, reflecting the amount of noise in the voice.\n",
    "# HNR: Harmonics-to-noise ratio, reflecting the harmonic quality of the voice.\n",
    "# RPDE: Recurrence period density entropy, a measure of complexity in the voice signal.\n",
    "# DFA: Detrended fluctuation analysis, reflecting fractal scaling properties.\n",
    "# PPE: Pitch period entropy, capturing randomness in the voice signal."
   ]
  },
  {
   "cell_type": "code",
   "execution_count": null,
   "metadata": {},
   "outputs": [],
   "source": []
  }
 ],
 "metadata": {
  "kernelspec": {
   "display_name": "myenv",
   "language": "python",
   "name": "python3"
  },
  "language_info": {
   "codemirror_mode": {
    "name": "ipython",
    "version": 3
   },
   "file_extension": ".py",
   "mimetype": "text/x-python",
   "name": "python",
   "nbconvert_exporter": "python",
   "pygments_lexer": "ipython3",
   "version": "3.12.3"
  }
 },
 "nbformat": 4,
 "nbformat_minor": 2
}
