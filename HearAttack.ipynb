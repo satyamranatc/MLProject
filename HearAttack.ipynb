{
 "cells": [
  {
   "cell_type": "code",
   "execution_count": null,
   "metadata": {},
   "outputs": [],
   "source": [
    "import numpy as np\n",
    "import pandas as pd\n",
    "import matplotlib.pyplot as plt\n",
    "import seaborn as sns\n",
    "\n",
    "\n",
    "df = pd.read_csv(\"./heart.csv\")\n",
    "print(df)\n",
    "\n",
    "\n",
    "numerical_features = df[['age', 'trtbps', 'chol', 'thalachh', 'oldpeak']]\n",
    "print(numerical_features)\n",
    "\n",
    "fig, axs = plt.subplots(nrows=7, ncols=2, figsize=(15, 30))\n",
    "\n",
    "for i, feature in enumerate(numerical_features):\n",
    "    row, col = i // 2, i % 2\n",
    "    sns.scatterplot(data=df, x=feature, y='output', ax=axs[row, col])\n",
    "    axs[row, col].set_title(f'Scatter plot of {feature} vs Output')\n",
    "\n",
    "plt.tight_layout()\n",
    "plt.show()\n",
    "\n",
    "\n",
    "\n",
    "\n",
    "\n",
    "#\n",
    "#\n",
    "# fig, axs = plt.subplots(nrows=3, ncols=2, figsize=(15, 10))\n",
    "#\n",
    "# for i, feature in enumerate(numerical_features):\n",
    "#     row, col = i // 2, i % 2\n",
    "#     sns.histplot(df[feature], kde=True, ax=axs[row, col])\n",
    "#     axs[row, col].set_title(f'Distribution of {feature}')\n",
    "#\n",
    "# plt.tight_layout()\n",
    "# plt.show()\n"
   ]
  }
 ],
 "metadata": {
  "kernelspec": {
   "display_name": "Python 3",
   "language": "python",
   "name": "python3"
  },
  "language_info": {
   "codemirror_mode": {
    "name": "ipython",
    "version": 3
   },
   "file_extension": ".py",
   "mimetype": "text/x-python",
   "name": "python",
   "nbconvert_exporter": "python",
   "pygments_lexer": "ipython3",
   "version": "3.12.3"
  }
 },
 "nbformat": 4,
 "nbformat_minor": 2
}
